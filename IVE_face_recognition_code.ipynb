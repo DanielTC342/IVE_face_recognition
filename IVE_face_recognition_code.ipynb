{
 "cells": [
  {
   "cell_type": "markdown",
   "id": "84f234c7",
   "metadata": {},
   "source": [
    "# IVE face recognition project"
   ]
  }
 ],
 "metadata": {
  "language_info": {
   "name": "python"
  }
 },
 "nbformat": 4,
 "nbformat_minor": 5
}
