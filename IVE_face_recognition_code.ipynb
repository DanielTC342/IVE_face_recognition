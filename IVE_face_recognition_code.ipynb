{
 "cells": [
  {
   "cell_type": "markdown",
   "id": "84f234c7",
   "metadata": {},
   "source": [
    "# IVE face recognition project\n",
    "\n",
    "In this project..."
   ]
  },
  {
   "cell_type": "markdown",
   "id": "34b7b7c0",
   "metadata": {},
   "source": [
    "## SECOND STEP"
   ]
  },
  {
   "cell_type": "code",
   "execution_count": null,
   "id": "85b352c2",
   "metadata": {},
   "outputs": [],
   "source": [
    "print(\"Hello world\")"
   ]
  }
 ],
 "metadata": {
  "kernelspec": {
   "display_name": "Python 3",
   "language": "python",
   "name": "python3"
  },
  "language_info": {
   "codemirror_mode": {
    "name": "ipython",
    "version": 3
   },
   "file_extension": ".py",
   "mimetype": "text/x-python",
   "name": "python",
   "nbconvert_exporter": "python",
   "pygments_lexer": "ipython3",
   "version": "3.11.3"
  }
 },
 "nbformat": 4,
 "nbformat_minor": 5
}
